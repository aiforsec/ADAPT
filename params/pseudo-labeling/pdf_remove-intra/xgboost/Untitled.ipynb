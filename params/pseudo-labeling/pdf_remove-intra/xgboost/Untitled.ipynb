{
 "cells": [
  {
   "cell_type": "code",
   "execution_count": 1,
   "id": "92c6b3f8-c6ff-4706-8845-06e2b8103152",
   "metadata": {},
   "outputs": [],
   "source": [
    "import pickle"
   ]
  },
  {
   "cell_type": "code",
   "execution_count": 3,
   "id": "ce08edff-422d-4829-81c2-58b74e6fb8f9",
   "metadata": {},
   "outputs": [],
   "source": [
    "with open('model_params.pkl', 'rb') as file:\n",
    "    data = pickle.load(file)"
   ]
  },
  {
   "cell_type": "code",
   "execution_count": 4,
   "id": "a2b7d798-a03a-4aaf-9a0b-5f0aa40fe7f8",
   "metadata": {},
   "outputs": [
    {
     "data": {
      "text/plain": [
       "{'model': {'max_depth': 6,\n",
       "  'alpha': 0.004625754510215775,\n",
       "  'lambda': 2.124407917364562e-06,\n",
       "  'eta': 0.0972632685262878,\n",
       "  'balance': False,\n",
       "  'num_boost_round': 300,\n",
       "  'verbosity': 1,\n",
       "  'objective': 'binary:logistic',\n",
       "  'eval_metric': 'auc'},\n",
       " 'pseudo-labeling': {'threshold_benign': 0.9046516014891693,\n",
       "  'threshold_malware': 0.8761776508210608,\n",
       "  'lambda': 0.14545236945647216,\n",
       "  'mask_ratio': 0.10216552103953261,\n",
       "  'mixup_alpha': 0.17858939086953096}}"
      ]
     },
     "execution_count": 4,
     "metadata": {},
     "output_type": "execute_result"
    }
   ],
   "source": [
    "data"
   ]
  },
  {
   "cell_type": "code",
   "execution_count": null,
   "id": "874a6c8f-bb6d-4a7f-9152-d086452b79c8",
   "metadata": {},
   "outputs": [],
   "source": []
  }
 ],
 "metadata": {
  "kernelspec": {
   "display_name": "Python 3 (ipykernel)",
   "language": "python",
   "name": "python3"
  },
  "language_info": {
   "codemirror_mode": {
    "name": "ipython",
    "version": 3
   },
   "file_extension": ".py",
   "mimetype": "text/x-python",
   "name": "python",
   "nbconvert_exporter": "python",
   "pygments_lexer": "ipython3",
   "version": "3.11.6"
  }
 },
 "nbformat": 4,
 "nbformat_minor": 5
}
